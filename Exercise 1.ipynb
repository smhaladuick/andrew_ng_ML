{
  "metadata": {
    "bento_stylesheets": {
      "bento/extensions/flow/main.css": true,
      "bento/extensions/kernel_selector/main.css": true,
      "bento/extensions/kernel_ui/main.css": true,
      "bento/extensions/new_kernel/main.css": true,
      "bento/extensions/system_usage/main.css": true,
      "bento/extensions/theme/main.css": true
    },
    "kernelspec": {
      "display_name": "Python 3",
      "language": "python",
      "name": "bento_kernel_default",
      "metadata": {
        "kernel_name": "bento_kernel_default",
        "nightly_builds": true,
        "fbpkg_supported": true,
        "cinder_runtime": false,
        "is_prebuilt": true
      }
    },
    "language_info": {
      "codemirror_mode": {
        "name": "ipython",
        "version": 3
      },
      "file_extension": ".py",
      "mimetype": "text/x-python",
      "name": "python",
      "nbconvert_exporter": "python",
      "pygments_lexer": "ipython3"
    },
    "last_server_session_id": "63c57daf-bca2-4efd-b6a4-94a5f6d3944b",
    "last_kernel_id": "7cea158e-35c0-4516-aaca-515691f1f6b7",
    "last_base_url": "https://devvm7934.prn0.facebook.com:8090/",
    "last_msg_id": "629e89ed-acab2fc7066d9e1cc25bc711_11930",
    "captumWidgetMessage": {},
    "outputWidgetContext": {}
  },
  "nbformat": 4,
  "nbformat_minor": 2,
  "cells": [
    {
      "cell_type": "markdown",
      "metadata": {
        "originalKey": "1be4bd2d-831f-4310-8ca3-6dc5ed5f9a08",
        "showInput": false,
        "customInput": null
      },
      "source": [
        "## Linear Regression with Single Feature"
      ]
    },
    {
      "cell_type": "code",
      "metadata": {
        "collapsed": false,
        "originalKey": "8d61cbe0-b4bf-433d-a521-78d103657e92",
        "code_folding": [],
        "hidden_ranges": [],
        "requestMsgId": "8d61cbe0-b4bf-433d-a521-78d103657e92",
        "executionStartTime": 1648505336538,
        "executionStopTime": 1648505336562
      },
      "source": [
        "import numpy as np\n",
        "import matplotlib.pyplot as plt\n",
        "import pandas as pd"
      ],
      "execution_count": 257,
      "outputs": []
    },
    {
      "cell_type": "markdown",
      "metadata": {
        "originalKey": "9e7101a4-476e-4118-905e-2f1baf875670",
        "showInput": false,
        "customInput": null,
        "collapsed": true,
        "code_folding": [],
        "hidden_ranges": []
      },
      "source": [
        "## Functions"
      ]
    },
    {
      "cell_type": "code",
      "metadata": {
        "originalKey": "a6b5abbb-a4de-4912-a51f-c5d710df805f",
        "showInput": true,
        "customInput": null,
        "code_folding": [],
        "hidden_ranges": [],
        "collapsed": false,
        "requestMsgId": "a6b5abbb-a4de-4912-a51f-c5d710df805f",
        "executionStartTime": 1648528569167,
        "executionStopTime": 1648528569185
      },
      "source": [
        "#Function to compute cost function\n",
        "def ComputeJ(X, Y, theta):\n",
        "    m = len(Y)\n",
        "    J = (1 / (2 * m)) * np.sum((X.dot(theta) - Y)**2)\n",
        "    return J"
      ],
      "execution_count": 767,
      "outputs": []
    },
    {
      "cell_type": "code",
      "metadata": {
        "originalKey": "74872e53-eb86-4591-b474-552c378bdf85",
        "showInput": true,
        "customInput": null,
        "code_folding": [],
        "hidden_ranges": [],
        "collapsed": false,
        "requestMsgId": "74872e53-eb86-4591-b474-552c378bdf85",
        "executionStartTime": 1648569010263,
        "executionStopTime": 1648569010273
      },
      "source": [
        "# Gradient Descent\n",
        "def GradientDescent(X, Y, theta, alpha, num_iterations):\n",
        "    #initialize variables\n",
        "    m = len(Y)\n",
        "    J_curve = []\n",
        "    \n",
        "    #loop for iterations of gradient descent\n",
        "    for i in range(num_iterations):\n",
        "        theta = theta - alpha * (1/m) * np.dot(X.transpose(), (X.dot(theta) - Y))\n",
        "        J_curve = np.append(J_curve, ComputeJ(X, Y, theta))\n",
        "    return J_curve, theta"
      ],
      "execution_count": 839,
      "outputs": []
    },
    {
      "cell_type": "code",
      "metadata": {
        "originalKey": "57b3953f-dbaa-4dc3-be51-a2ef08d33ab9",
        "showInput": true,
        "customInput": null,
        "code_folding": [],
        "hidden_ranges": [],
        "collapsed": false,
        "requestMsgId": "57b3953f-dbaa-4dc3-be51-a2ef08d33ab9",
        "executionStartTime": 1648528571157,
        "executionStopTime": 1648528571175
      },
      "source": [
        "# Feature Normalization\n",
        "def FeatureNormalization(X):\n",
        "    mean = np.mean(X, axis=0)\n",
        "    std = np.std(X, axis=0)\n",
        "    X = (X - mean) / std\n",
        "    return X, mean, std"
      ],
      "execution_count": 769,
      "outputs": []
    },
    {
      "cell_type": "markdown",
      "metadata": {
        "originalKey": "92867f2d-ac39-49a7-a7d8-ed2e4d2c9068",
        "showInput": false,
        "customInput": null,
        "code_folding": [],
        "hidden_ranges": []
      },
      "source": [
        "## Linear Regression with Single Feature"
      ]
    },
    {
      "cell_type": "code",
      "metadata": {
        "originalKey": "cf1cfeab-db38-4262-871c-c52838316ebb",
        "showInput": true,
        "customInput": null,
        "collapsed": false,
        "requestMsgId": "cf1cfeab-db38-4262-871c-c52838316ebb",
        "executionStartTime": 1648526240033,
        "executionStopTime": 1648526240056,
        "code_folding": [],
        "hidden_ranges": []
      },
      "source": [
        "#import data\n",
        "df = pd.read_csv('/home/smhaladuick/local/andrew_ng/ex1data1.csv', header=None)"
      ],
      "execution_count": 664,
      "outputs": []
    },
    {
      "cell_type": "code",
      "metadata": {
        "originalKey": "b67f6f69-b9d5-4e08-8ec7-865dcdbbe471",
        "showInput": true,
        "customInput": null,
        "collapsed": false,
        "requestMsgId": "b67f6f69-b9d5-4e08-8ec7-865dcdbbe471",
        "executionStartTime": 1648526240802,
        "executionStopTime": 1648526240866,
        "code_folding": [],
        "hidden_ranges": []
      },
      "source": [
        "df.head(5)"
      ],
      "execution_count": 665,
      "outputs": [
        {
          "output_type": "execute_result",
          "data": {
            "text/plain": "        0        1\n0  6.1101  17.5920\n1  5.5277   9.1302\n2  8.5186  13.6620\n3  7.0032  11.8540\n4  5.8598   6.8233",
            "text/html": "<div>\n<style scoped>\n    .dataframe tbody tr th:only-of-type {\n        vertical-align: middle;\n    }\n\n    .dataframe tbody tr th {\n        vertical-align: top;\n    }\n\n    .dataframe thead th {\n        text-align: right;\n    }\n</style>\n<table border=\"1\" class=\"dataframe\">\n  <thead>\n    <tr style=\"text-align: right;\">\n      <th></th>\n      <th>0</th>\n      <th>1</th>\n    </tr>\n  </thead>\n  <tbody>\n    <tr>\n      <th>0</th>\n      <td>6.1101</td>\n      <td>17.5920</td>\n    </tr>\n    <tr>\n      <th>1</th>\n      <td>5.5277</td>\n      <td>9.1302</td>\n    </tr>\n    <tr>\n      <th>2</th>\n      <td>8.5186</td>\n      <td>13.6620</td>\n    </tr>\n    <tr>\n      <th>3</th>\n      <td>7.0032</td>\n      <td>11.8540</td>\n    </tr>\n    <tr>\n      <th>4</th>\n      <td>5.8598</td>\n      <td>6.8233</td>\n    </tr>\n  </tbody>\n</table>\n</div>",
            "application/vnd.dataresource+json": {
              "schema": {
                "fields": [
                  {
                    "name": "index",
                    "type": "integer"
                  },
                  {
                    "name": 0,
                    "type": "number"
                  },
                  {
                    "name": 1,
                    "type": "number"
                  }
                ],
                "primaryKey": [
                  "index"
                ],
                "pandas_version": "0.20.0"
              },
              "data": [
                {
                  "0": 6.1101,
                  "1": 17.592,
                  "index": 0
                },
                {
                  "0": 5.5277,
                  "1": 9.1302,
                  "index": 1
                },
                {
                  "0": 8.5186,
                  "1": 13.662,
                  "index": 2
                },
                {
                  "0": 7.0032,
                  "1": 11.854,
                  "index": 3
                },
                {
                  "0": 5.8598,
                  "1": 6.8233,
                  "index": 4
                }
              ]
            }
          },
          "metadata": {
            "bento_obj_id": "140099520298720"
          },
          "execution_count": 665
        }
      ]
    },
    {
      "cell_type": "code",
      "metadata": {
        "originalKey": "d10505ce-5f1b-4d3a-80af-50c438a0f8fa",
        "showInput": true,
        "customInput": null,
        "code_folding": [],
        "hidden_ranges": [],
        "collapsed": false,
        "requestMsgId": "d10505ce-5f1b-4d3a-80af-50c438a0f8fa",
        "executionStartTime": 1648526242381,
        "executionStopTime": 1648526242463
      },
      "source": [
        "df.describe()"
      ],
      "execution_count": 666,
      "outputs": [
        {
          "output_type": "execute_result",
          "data": {
            "text/plain": "               0          1\ncount  97.000000  97.000000\nmean    8.159800   5.839135\nstd     3.869884   5.510262\nmin     5.026900  -2.680700\n25%     5.707700   1.986900\n50%     6.589400   4.562300\n75%     8.578100   7.046700\nmax    22.203000  24.147000",
            "text/html": "<div>\n<style scoped>\n    .dataframe tbody tr th:only-of-type {\n        vertical-align: middle;\n    }\n\n    .dataframe tbody tr th {\n        vertical-align: top;\n    }\n\n    .dataframe thead th {\n        text-align: right;\n    }\n</style>\n<table border=\"1\" class=\"dataframe\">\n  <thead>\n    <tr style=\"text-align: right;\">\n      <th></th>\n      <th>0</th>\n      <th>1</th>\n    </tr>\n  </thead>\n  <tbody>\n    <tr>\n      <th>count</th>\n      <td>97.000000</td>\n      <td>97.000000</td>\n    </tr>\n    <tr>\n      <th>mean</th>\n      <td>8.159800</td>\n      <td>5.839135</td>\n    </tr>\n    <tr>\n      <th>std</th>\n      <td>3.869884</td>\n      <td>5.510262</td>\n    </tr>\n    <tr>\n      <th>min</th>\n      <td>5.026900</td>\n      <td>-2.680700</td>\n    </tr>\n    <tr>\n      <th>25%</th>\n      <td>5.707700</td>\n      <td>1.986900</td>\n    </tr>\n    <tr>\n      <th>50%</th>\n      <td>6.589400</td>\n      <td>4.562300</td>\n    </tr>\n    <tr>\n      <th>75%</th>\n      <td>8.578100</td>\n      <td>7.046700</td>\n    </tr>\n    <tr>\n      <th>max</th>\n      <td>22.203000</td>\n      <td>24.147000</td>\n    </tr>\n  </tbody>\n</table>\n</div>",
            "application/vnd.dataresource+json": {
              "schema": {
                "fields": [
                  {
                    "name": "index",
                    "type": "string"
                  },
                  {
                    "name": 0,
                    "type": "number"
                  },
                  {
                    "name": 1,
                    "type": "number"
                  }
                ],
                "primaryKey": [
                  "index"
                ],
                "pandas_version": "0.20.0"
              },
              "data": [
                {
                  "0": 97,
                  "1": 97,
                  "index": "count"
                },
                {
                  "0": 8.1598,
                  "1": 5.8391350515,
                  "index": "mean"
                },
                {
                  "0": 3.8698835279,
                  "1": 5.5102622552,
                  "index": "std"
                },
                {
                  "0": 5.0269,
                  "1": -2.6807,
                  "index": "min"
                },
                {
                  "0": 5.7077,
                  "1": 1.9869,
                  "index": "25%"
                },
                {
                  "0": 6.5894,
                  "1": 4.5623,
                  "index": "50%"
                },
                {
                  "0": 8.5781,
                  "1": 7.0467,
                  "index": "75%"
                },
                {
                  "0": 22.203,
                  "1": 24.147,
                  "index": "max"
                }
              ]
            }
          },
          "metadata": {
            "bento_obj_id": "140099513902704"
          },
          "execution_count": 666
        }
      ]
    },
    {
      "cell_type": "code",
      "metadata": {
        "originalKey": "eaa7ef08-8847-4361-9636-d4885b38f145",
        "showInput": true,
        "customInput": null,
        "code_folding": [],
        "hidden_ranges": [],
        "collapsed": false,
        "requestMsgId": "eaa7ef08-8847-4361-9636-d4885b38f145",
        "executionStartTime": 1648526243753,
        "executionStopTime": 1648526243957
      },
      "source": [
        "plt.scatter(df[0], df[1])\n",
        "plt.xticks(np.arange(5,30,step=5))\n",
        "plt.yticks(np.arange(-5,30,step=5))\n",
        "plt.xlabel(\"Population of City (10,000s)\")\n",
        "plt.ylabel(\"Profit ($10,000\")\n",
        "plt.title(\"Profit Vs Population\")"
      ],
      "execution_count": 667,
      "outputs": [
        {
          "output_type": "execute_result",
          "data": {
            "text/plain": "Text(0.5, 1.0, 'Profit Vs Population')"
          },
          "metadata": {
            "bento_obj_id": "140099520744896"
          },
          "execution_count": 667
        },
        {
          "output_type": "display_data",
          "data": {
            "text/plain": "<Figure size 432x288 with 1 Axes>",
            "image/png": "[encoded data removed]"
          },
          "metadata": {
            "bento_obj_id": "140099520564000",
            "needs_background": "light"
          }
        }
      ]
    },
    {
      "cell_type": "code",
      "metadata": {
        "originalKey": "d7002b67-927a-4298-9b4f-13fa7ba31dcb",
        "showInput": true,
        "customInput": null,
        "code_folding": [],
        "hidden_ranges": [],
        "collapsed": false,
        "requestMsgId": "d7002b67-927a-4298-9b4f-13fa7ba31dcb",
        "executionStartTime": 1648526247343,
        "executionStopTime": 1648526247405
      },
      "source": [
        "#initialize variables\n",
        "m = np.size(df,0)\n",
        "X = np.array(df[0])\n",
        "X = np.append(np.ones((m,1)), X.reshape(m,1), axis=1)\n",
        "Y = np.array(df[1]).reshape(m,1)\n",
        "\n",
        "#initial guess of theta\n",
        "theta = np.array([[0, 0]]).T"
      ],
      "execution_count": 668,
      "outputs": []
    },
    {
      "cell_type": "code",
      "metadata": {
        "originalKey": "0847f254-f15f-4975-a211-b48cfd316ac0",
        "showInput": true,
        "customInput": null,
        "code_folding": [],
        "hidden_ranges": [],
        "collapsed": false,
        "requestMsgId": "0847f254-f15f-4975-a211-b48cfd316ac0",
        "executionStartTime": 1648526248378,
        "executionStopTime": 1648526248429
      },
      "source": [
        "theta = np.array([[0, 0]]).T\n",
        "J_curve, theta = gradient_descent(X, Y, theta, 0.01, 1500)"
      ],
      "execution_count": 669,
      "outputs": []
    },
    {
      "cell_type": "code",
      "metadata": {
        "originalKey": "236b00db-0509-4198-ad17-e5e87fe917cf",
        "showInput": true,
        "customInput": null,
        "code_folding": [],
        "hidden_ranges": [],
        "collapsed": false,
        "requestMsgId": "236b00db-0509-4198-ad17-e5e87fe917cf",
        "executionStartTime": 1648526252107,
        "executionStopTime": 1648526252409
      },
      "source": [
        "plt.plot(J_curve)"
      ],
      "execution_count": 670,
      "outputs": [
        {
          "output_type": "execute_result",
          "data": {
            "text/plain": "[<matplotlib.lines.Line2D at 0x7f6b7627e760>]"
          },
          "metadata": {
            "bento_obj_id": "140099519395072"
          },
          "execution_count": 670
        },
        {
          "output_type": "display_data",
          "data": {
            "text/plain": "<Figure size 432x288 with 1 Axes>",
            "image/png": "[encoded data removed]"
          },
          "metadata": {
            "bento_obj_id": "140099472132752",
            "needs_background": "light"
          }
        }
      ]
    },
    {
      "cell_type": "code",
      "metadata": {
        "originalKey": "e13a56a0-78d8-499d-a41d-2541065c37d9",
        "showInput": true,
        "customInput": null,
        "code_folding": [],
        "hidden_ranges": [],
        "collapsed": false,
        "requestMsgId": "e13a56a0-78d8-499d-a41d-2541065c37d9",
        "executionStartTime": 1648526255378,
        "executionStopTime": 1648526255451
      },
      "source": [
        "theta"
      ],
      "execution_count": 671,
      "outputs": [
        {
          "output_type": "execute_result",
          "data": {
            "text/plain": "array([[-3.63029144],\n       [ 1.16636235]])"
          },
          "metadata": {
            "bento_obj_id": "140099519989600"
          },
          "execution_count": 671
        }
      ]
    },
    {
      "cell_type": "code",
      "metadata": {
        "originalKey": "6007be29-eda8-4a07-94c4-1bf05e005270",
        "showInput": true,
        "customInput": null,
        "code_folding": [],
        "hidden_ranges": [],
        "collapsed": false,
        "requestMsgId": "6007be29-eda8-4a07-94c4-1bf05e005270",
        "executionStartTime": 1648526259452,
        "executionStopTime": 1648526259695
      },
      "source": [
        "plt.scatter(df[0], df[1])\n",
        "plt.xticks(np.arange(-5,30,step=5))\n",
        "plt.yticks(np.arange(-5,30,step=5))\n",
        "plt.xlabel(\"Population of City (10,000s)\")\n",
        "plt.ylabel(\"Profit ($10,000\")\n",
        "plt.title(\"Profit Vs Population\")\n",
        "\n",
        "#add regression line\n",
        "x_values = [x for x in range(-5, 30)]\n",
        "y_values = theta[0] + theta[1] * x_values\n",
        "plt.plot(x_values, y_values, color ='black')"
      ],
      "execution_count": 672,
      "outputs": [
        {
          "output_type": "execute_result",
          "data": {
            "text/plain": "[<matplotlib.lines.Line2D at 0x7f6b762836d0>]"
          },
          "metadata": {
            "bento_obj_id": "140099520040256"
          },
          "execution_count": 672
        },
        {
          "output_type": "display_data",
          "data": {
            "text/plain": "<Figure size 432x288 with 1 Axes>",
            "image/png": "[encoded data removed]"
          },
          "metadata": {
            "bento_obj_id": "140099475018656",
            "needs_background": "light"
          }
        }
      ]
    },
    {
      "cell_type": "code",
      "metadata": {
        "originalKey": "812bb810-baba-4ef3-934f-70bb432b9ed4",
        "showInput": true,
        "customInput": null,
        "collapsed": false,
        "requestMsgId": "812bb810-baba-4ef3-934f-70bb432b9ed4",
        "executionStopTime": 1648526269709,
        "code_folding": [],
        "hidden_ranges": [],
        "executionStartTime": 1648526269653
      },
      "source": [
        "#make predictions of cost given X based on model\n",
        "def predict(x, theta):\n",
        "    y = theta[0] + theta[1] * x\n",
        "    return y"
      ],
      "execution_count": 673,
      "outputs": []
    },
    {
      "cell_type": "code",
      "metadata": {
        "originalKey": "f2163c21-8e16-4941-97de-6e4b731b5b21",
        "showInput": true,
        "customInput": null,
        "code_folding": [],
        "hidden_ranges": [],
        "collapsed": false,
        "requestMsgId": "f2163c21-8e16-4941-97de-6e4b731b5b21",
        "executionStartTime": 1648526270692,
        "executionStopTime": 1648526270761
      },
      "source": [
        "prediction = predict(70000 / 10000, theta)\n",
        "prediction * 10000"
      ],
      "execution_count": 674,
      "outputs": [
        {
          "output_type": "execute_result",
          "data": {
            "text/plain": "array([45342.45012945])"
          },
          "metadata": {
            "bento_obj_id": "140099514701584"
          },
          "execution_count": 674
        }
      ]
    },
    {
      "cell_type": "markdown",
      "metadata": {
        "originalKey": "1dd79410-b63b-42f7-a52f-f2ae672afc12",
        "showInput": false,
        "customInput": null,
        "code_folding": [],
        "hidden_ranges": []
      },
      "source": [
        "## Linear Regression with Multiple Variables"
      ]
    },
    {
      "cell_type": "code",
      "metadata": {
        "originalKey": "70224d77-3fa3-4fd5-ac0e-b0d80fa56054",
        "showInput": true,
        "customInput": null,
        "code_folding": [],
        "hidden_ranges": [],
        "collapsed": false,
        "requestMsgId": "70224d77-3fa3-4fd5-ac0e-b0d80fa56054",
        "executionStartTime": 1648527196329,
        "executionStopTime": 1648527196352
      },
      "source": [
        "#import data\n",
        "df2 = pd.read_csv('/home/smhaladuick/local/andrew_ng/ex1/ex1data2.txt', header=None)"
      ],
      "execution_count": 697,
      "outputs": []
    },
    {
      "cell_type": "code",
      "metadata": {
        "originalKey": "dc06ac81-2116-4c32-b105-0f68dd394d2a",
        "showInput": true,
        "customInput": null,
        "code_folding": [],
        "hidden_ranges": [],
        "collapsed": false,
        "requestMsgId": "dc06ac81-2116-4c32-b105-0f68dd394d2a",
        "executionStartTime": 1648527196997,
        "executionStopTime": 1648527197059
      },
      "source": [
        "df2.head(5)"
      ],
      "execution_count": 698,
      "outputs": [
        {
          "output_type": "execute_result",
          "data": {
            "text/plain": "      0  1       2\n0  2104  3  399900\n1  1600  3  329900\n2  2400  3  369000\n3  1416  2  232000\n4  3000  4  539900",
            "text/html": "<div>\n<style scoped>\n    .dataframe tbody tr th:only-of-type {\n        vertical-align: middle;\n    }\n\n    .dataframe tbody tr th {\n        vertical-align: top;\n    }\n\n    .dataframe thead th {\n        text-align: right;\n    }\n</style>\n<table border=\"1\" class=\"dataframe\">\n  <thead>\n    <tr style=\"text-align: right;\">\n      <th></th>\n      <th>0</th>\n      <th>1</th>\n      <th>2</th>\n    </tr>\n  </thead>\n  <tbody>\n    <tr>\n      <th>0</th>\n      <td>2104</td>\n      <td>3</td>\n      <td>399900</td>\n    </tr>\n    <tr>\n      <th>1</th>\n      <td>1600</td>\n      <td>3</td>\n      <td>329900</td>\n    </tr>\n    <tr>\n      <th>2</th>\n      <td>2400</td>\n      <td>3</td>\n      <td>369000</td>\n    </tr>\n    <tr>\n      <th>3</th>\n      <td>1416</td>\n      <td>2</td>\n      <td>232000</td>\n    </tr>\n    <tr>\n      <th>4</th>\n      <td>3000</td>\n      <td>4</td>\n      <td>539900</td>\n    </tr>\n  </tbody>\n</table>\n</div>",
            "application/vnd.dataresource+json": {
              "schema": {
                "fields": [
                  {
                    "name": "index",
                    "type": "integer"
                  },
                  {
                    "name": 0,
                    "type": "integer"
                  },
                  {
                    "name": 1,
                    "type": "integer"
                  },
                  {
                    "name": 2,
                    "type": "integer"
                  }
                ],
                "primaryKey": [
                  "index"
                ],
                "pandas_version": "0.20.0"
              },
              "data": [
                {
                  "0": 2104,
                  "1": 3,
                  "2": 399900,
                  "index": 0
                },
                {
                  "0": 1600,
                  "1": 3,
                  "2": 329900,
                  "index": 1
                },
                {
                  "0": 2400,
                  "1": 3,
                  "2": 369000,
                  "index": 2
                },
                {
                  "0": 1416,
                  "1": 2,
                  "2": 232000,
                  "index": 3
                },
                {
                  "0": 3000,
                  "1": 4,
                  "2": 539900,
                  "index": 4
                }
              ]
            }
          },
          "metadata": {
            "bento_obj_id": "140099470187152"
          },
          "execution_count": 698
        }
      ]
    },
    {
      "cell_type": "code",
      "metadata": {
        "originalKey": "aa4114eb-8436-4909-9ce9-d515858b3624",
        "showInput": true,
        "customInput": null,
        "code_folding": [],
        "hidden_ranges": [],
        "collapsed": false,
        "requestMsgId": "aa4114eb-8436-4909-9ce9-d515858b3624",
        "executionStartTime": 1648527197990,
        "executionStopTime": 1648527198058
      },
      "source": [
        "df2.describe()"
      ],
      "execution_count": 699,
      "outputs": [
        {
          "output_type": "execute_result",
          "data": {
            "text/plain": "                 0          1              2\ncount    47.000000  47.000000      47.000000\nmean   2000.680851   3.170213  340412.659574\nstd     794.702354   0.760982  125039.899586\nmin     852.000000   1.000000  169900.000000\n25%    1432.000000   3.000000  249900.000000\n50%    1888.000000   3.000000  299900.000000\n75%    2269.000000   4.000000  384450.000000\nmax    4478.000000   5.000000  699900.000000",
            "text/html": "<div>\n<style scoped>\n    .dataframe tbody tr th:only-of-type {\n        vertical-align: middle;\n    }\n\n    .dataframe tbody tr th {\n        vertical-align: top;\n    }\n\n    .dataframe thead th {\n        text-align: right;\n    }\n</style>\n<table border=\"1\" class=\"dataframe\">\n  <thead>\n    <tr style=\"text-align: right;\">\n      <th></th>\n      <th>0</th>\n      <th>1</th>\n      <th>2</th>\n    </tr>\n  </thead>\n  <tbody>\n    <tr>\n      <th>count</th>\n      <td>47.000000</td>\n      <td>47.000000</td>\n      <td>47.000000</td>\n    </tr>\n    <tr>\n      <th>mean</th>\n      <td>2000.680851</td>\n      <td>3.170213</td>\n      <td>340412.659574</td>\n    </tr>\n    <tr>\n      <th>std</th>\n      <td>794.702354</td>\n      <td>0.760982</td>\n      <td>125039.899586</td>\n    </tr>\n    <tr>\n      <th>min</th>\n      <td>852.000000</td>\n      <td>1.000000</td>\n      <td>169900.000000</td>\n    </tr>\n    <tr>\n      <th>25%</th>\n      <td>1432.000000</td>\n      <td>3.000000</td>\n      <td>249900.000000</td>\n    </tr>\n    <tr>\n      <th>50%</th>\n      <td>1888.000000</td>\n      <td>3.000000</td>\n      <td>299900.000000</td>\n    </tr>\n    <tr>\n      <th>75%</th>\n      <td>2269.000000</td>\n      <td>4.000000</td>\n      <td>384450.000000</td>\n    </tr>\n    <tr>\n      <th>max</th>\n      <td>4478.000000</td>\n      <td>5.000000</td>\n      <td>699900.000000</td>\n    </tr>\n  </tbody>\n</table>\n</div>",
            "application/vnd.dataresource+json": {
              "schema": {
                "fields": [
                  {
                    "name": "index",
                    "type": "string"
                  },
                  {
                    "name": 0,
                    "type": "number"
                  },
                  {
                    "name": 1,
                    "type": "number"
                  },
                  {
                    "name": 2,
                    "type": "number"
                  }
                ],
                "primaryKey": [
                  "index"
                ],
                "pandas_version": "0.20.0"
              },
              "data": [
                {
                  "0": 47,
                  "1": 47,
                  "2": 47,
                  "index": "count"
                },
                {
                  "0": 2000.6808510638,
                  "1": 3.170212766,
                  "2": 340412.6595744681,
                  "index": "mean"
                },
                {
                  "0": 794.7023535339,
                  "1": 0.7609818868,
                  "2": 125039.899586401,
                  "index": "std"
                },
                {
                  "0": 852,
                  "1": 1,
                  "2": 169900,
                  "index": "min"
                },
                {
                  "0": 1432,
                  "1": 3,
                  "2": 249900,
                  "index": "25%"
                },
                {
                  "0": 1888,
                  "1": 3,
                  "2": 299900,
                  "index": "50%"
                },
                {
                  "0": 2269,
                  "1": 4,
                  "2": 384450,
                  "index": "75%"
                },
                {
                  "0": 4478,
                  "1": 5,
                  "2": 699900,
                  "index": "max"
                }
              ]
            }
          },
          "metadata": {
            "bento_obj_id": "140099479239360"
          },
          "execution_count": 699
        }
      ]
    },
    {
      "cell_type": "code",
      "metadata": {
        "originalKey": "342c15cd-1b9a-4c09-a626-e51bb5ff5f5e",
        "showInput": true,
        "customInput": null,
        "code_folding": [],
        "hidden_ranges": [],
        "collapsed": false,
        "requestMsgId": "342c15cd-1b9a-4c09-a626-e51bb5ff5f5e",
        "executionStartTime": 1648527199046,
        "executionStopTime": 1648527199512
      },
      "source": [
        "# Create 2 subplot, 1 for each variable\n",
        "fig, axes = plt.subplots(figsize=(12,4),nrows=1,ncols=2)\n",
        "axes[0].scatter(df2[0],df2[2],color=\"b\")\n",
        "axes[0].set_xlabel(\"Size (Square Feet)\")\n",
        "axes[0].set_ylabel(\"Prices\")\n",
        "axes[0].set_title(\"House prices against size of house\")\n",
        "axes[1].scatter(df2[1],df2[2],color=\"r\")\n",
        "axes[1].set_xlabel(\"Number of bedroom\")\n",
        "axes[1].set_ylabel(\"Prices\")\n",
        "axes[1].set_xticks(np.arange(1,6,step=1))\n",
        "axes[1].set_title(\"House prices against number of bedroom\")\n",
        "# Enhance layout\n",
        "plt.tight_layout()"
      ],
      "execution_count": 700,
      "outputs": [
        {
          "output_type": "display_data",
          "data": {
            "text/plain": "<Figure size 864x288 with 2 Axes>",
            "image/png": "[encoded data removed]"
          },
          "metadata": {
            "bento_obj_id": "140099469971616",
            "needs_background": "light"
          }
        }
      ]
    },
    {
      "cell_type": "code",
      "metadata": {
        "originalKey": "cafb2f21-4b2a-4b8c-b1ee-4abc66ce71ba",
        "showInput": true,
        "customInput": null,
        "code_folding": [],
        "hidden_ranges": [],
        "collapsed": false,
        "requestMsgId": "cafb2f21-4b2a-4b8c-b1ee-4abc66ce71ba",
        "executionStartTime": 1648569649745,
        "executionStopTime": 1648569649754
      },
      "source": [
        "#initialize variables\n",
        "m2 = np.size(df2,0)\n",
        "data_n2 = df2.values\n",
        "X2 = data_n2[:,[0,1]].reshape(m2,2)\n",
        "Y2 = data_n2[:,[2]].reshape(m2,1)"
      ],
      "execution_count": 855,
      "outputs": []
    },
    {
      "cell_type": "code",
      "metadata": {
        "originalKey": "e5cb8f73-fc3e-453c-b600-722b888e1f82",
        "showInput": true,
        "customInput": null,
        "code_folding": [],
        "hidden_ranges": [],
        "collapsed": false,
        "requestMsgId": "e5cb8f73-fc3e-453c-b600-722b888e1f82",
        "executionStartTime": 1648569644149,
        "executionStopTime": 1648569644158
      },
      "source": [
        "#normalize features\n",
        "X2_norm, mean, std = FeatureNormalization(X2)\n",
        "X2_norm\n",
        "\n",
        "# add ones col to start of X\n",
        "X2_norm = np.append(np.ones((m2,1)), X2_norm, axis=1)"
      ],
      "execution_count": 854,
      "outputs": []
    },
    {
      "cell_type": "code",
      "metadata": {
        "originalKey": "f4c3502f-2615-4151-b3a9-aa7d87630d7c",
        "showInput": true,
        "customInput": null,
        "code_folding": [],
        "hidden_ranges": [],
        "collapsed": false,
        "requestMsgId": "f4c3502f-2615-4151-b3a9-aa7d87630d7c",
        "executionStartTime": 1648528591733,
        "executionStopTime": 1648528592063
      },
      "source": [
        "plt.hist(X2_norm[:,[0, 1,2]])"
      ],
      "execution_count": 772,
      "outputs": [
        {
          "output_type": "execute_result",
          "data": {
            "text/plain": "([array([ 0.,  0.,  0.,  0.,  0.,  0., 47.,  0.,  0.,  0.]),\n  array([ 0.,  0.,  3., 15., 13.,  8.,  4.,  1.,  1.,  2.]),\n  array([ 1.,  0.,  6.,  0., 25.,  0., 14.,  0.,  1.,  0.])],\n array([-2.88269044, -2.27932207, -1.6759537 , -1.07258533, -0.46921696,\n         0.13415141,  0.73751978,  1.34088815,  1.94425652,  2.54762489,\n         3.15099326]),\n <a list of 3 Lists of Patches objects>)"
          },
          "metadata": {
            "bento_obj_id": "140099473366272"
          },
          "execution_count": 772
        },
        {
          "output_type": "display_data",
          "data": {
            "text/plain": "<Figure size 432x288 with 1 Axes>",
            "image/png": "[encoded data removed]"
          },
          "metadata": {
            "bento_obj_id": "140099477474848",
            "needs_background": "light"
          }
        }
      ]
    },
    {
      "cell_type": "code",
      "metadata": {
        "originalKey": "415eb373-6fd0-4de0-92d9-ad0b1fe39d80",
        "showInput": true,
        "customInput": null,
        "code_folding": [],
        "hidden_ranges": [],
        "collapsed": false,
        "requestMsgId": "415eb373-6fd0-4de0-92d9-ad0b1fe39d80",
        "executionStartTime": 1648569016692,
        "executionStopTime": 1648569016756
      },
      "source": [
        "theta2 = np.array([[0, 0, 0]]).T #initial guess\n",
        "ComputeJ(X2_norm, Y2, theta2) #test ComputeJ cost function"
      ],
      "execution_count": 840,
      "outputs": [
        {
          "output_type": "execute_result",
          "data": {
            "text/plain": "65591548106.45744"
          },
          "metadata": {
            "bento_obj_id": "140099475865040"
          },
          "execution_count": 840
        }
      ]
    },
    {
      "cell_type": "code",
      "metadata": {
        "originalKey": "3f504d12-f394-48c9-ab42-52b701d084b8",
        "showInput": true,
        "customInput": null,
        "collapsed": false,
        "requestMsgId": "3f504d12-f394-48c9-ab42-52b701d084b8",
        "executionStartTime": 1648569017564,
        "executionStopTime": 1648569017590,
        "code_folding": [],
        "hidden_ranges": []
      },
      "source": [
        "theta2 = np.array([[0, 0, 0]]).T #initial guess\n",
        "J_curve, theta2 = GradientDescent(X2_norm,Y2,theta2,0.01,400)"
      ],
      "execution_count": 841,
      "outputs": []
    },
    {
      "cell_type": "code",
      "metadata": {
        "originalKey": "dbbfef94-5ded-40c7-b263-c21a6237cc6d",
        "showInput": true,
        "customInput": null,
        "code_folding": [],
        "hidden_ranges": [],
        "collapsed": false,
        "requestMsgId": "dbbfef94-5ded-40c7-b263-c21a6237cc6d",
        "executionStartTime": 1648569018376,
        "executionStopTime": 1648569018659
      },
      "source": [
        "plt.plot(J_curve)"
      ],
      "execution_count": 842,
      "outputs": [
        {
          "output_type": "execute_result",
          "data": {
            "text/plain": "[<matplotlib.lines.Line2D at 0x7f6b6ff44310>]"
          },
          "metadata": {
            "bento_obj_id": "140099416973376"
          },
          "execution_count": 842
        },
        {
          "output_type": "display_data",
          "data": {
            "text/plain": "<Figure size 432x288 with 1 Axes>",
            "image/png": "[encoded data removed]"
          },
          "metadata": {
            "bento_obj_id": "140099417083472",
            "needs_background": "light"
          }
        }
      ]
    },
    {
      "cell_type": "code",
      "metadata": {
        "originalKey": "b105d80b-3b73-458e-afb3-06969f007a79",
        "showInput": true,
        "customInput": null,
        "code_folding": [],
        "hidden_ranges": [],
        "collapsed": false,
        "requestMsgId": "b105d80b-3b73-458e-afb3-06969f007a79",
        "executionStartTime": 1648569319886,
        "executionStopTime": 1648569319915
      },
      "source": [
        "theta2"
      ],
      "execution_count": 849,
      "outputs": [
        {
          "output_type": "execute_result",
          "data": {
            "text/plain": "array([[334302.06399328],\n       [ 99411.44947359],\n       [  3267.01285407]])"
          },
          "metadata": {
            "bento_obj_id": "140099418039040"
          },
          "execution_count": 849
        }
      ]
    },
    {
      "cell_type": "code",
      "metadata": {
        "originalKey": "fcd6a8be-9142-45a0-b319-52fa4954adc8",
        "showInput": true,
        "customInput": null,
        "collapsed": false,
        "requestMsgId": "fcd6a8be-9142-45a0-b319-52fa4954adc8",
        "executionStartTime": 1648570781078,
        "executionStopTime": 1648570781140,
        "code_folding": [],
        "hidden_ranges": []
      },
      "source": [
        "#make prediction of cost of house s 1650 sq_ft and 3 bedrooms\n",
        "#normalize inputs:\n",
        "x2_input = [1650, 3]\n",
        "x2_input_norm = (x2_input - np.mean(X2,axis=0)) / np.std(X2, axis=0)\n",
        "x2_input_norm = np.insert(x2_input_norm, 0, 1)\n",
        "y2_prediction = np.dot(theta2.T, x2_input_norm)\n",
        "y2_prediction"
      ],
      "execution_count": 916,
      "outputs": [
        {
          "output_type": "execute_result",
          "data": {
            "text/plain": "array([289221.54737122])"
          },
          "metadata": {
            "bento_obj_id": "140099416145968"
          },
          "execution_count": 916
        }
      ]
    },
    {
      "cell_type": "markdown",
      "metadata": {
        "originalKey": "f26d1039-5cff-4250-982e-47b98d9c26c8",
        "showInput": false,
        "customInput": null
      },
      "source": [
        "## 3.3 Normal Equations"
      ]
    },
    {
      "cell_type": "code",
      "metadata": {
        "originalKey": "7296ca39-fb48-4a69-9f7c-e7c0c57ae314",
        "showInput": true,
        "customInput": null,
        "collapsed": false,
        "requestMsgId": "7296ca39-fb48-4a69-9f7c-e7c0c57ae314",
        "executionStartTime": 1648570788048,
        "executionStopTime": 1648570788054,
        "code_folding": [],
        "hidden_ranges": []
      },
      "source": [
        "X2_normaleq = np.append(np.ones((m2,1)), X2, axis=1)"
      ],
      "execution_count": 917,
      "outputs": []
    },
    {
      "cell_type": "code",
      "metadata": {
        "originalKey": "1a177f3e-6174-4d6b-b110-964445f5da3f",
        "showInput": true,
        "customInput": null,
        "code_folding": [],
        "hidden_ranges": [],
        "collapsed": false,
        "requestMsgId": "1a177f3e-6174-4d6b-b110-964445f5da3f",
        "executionStartTime": 1648570788893,
        "executionStopTime": 1648570788900
      },
      "source": [
        "def NormEq(X,Y):\n",
        "    return np.dot(np.dot(np.linalg.inv(np.dot(X.T, X)), X.T), Y)"
      ],
      "execution_count": 918,
      "outputs": []
    },
    {
      "cell_type": "code",
      "metadata": {
        "originalKey": "beb1fef9-6e49-4f8d-9281-65d3b91c6783",
        "showInput": true,
        "customInput": null,
        "code_folding": [],
        "hidden_ranges": [],
        "collapsed": false,
        "requestMsgId": "beb1fef9-6e49-4f8d-9281-65d3b91c6783",
        "executionStartTime": 1648570790370,
        "executionStopTime": 1648570790435
      },
      "source": [
        "theta_normaleq =[]\n",
        "theta_normaleq = NormEq(X2_normaleq, Y2)\n",
        "theta_normaleq"
      ],
      "execution_count": 919,
      "outputs": [
        {
          "output_type": "execute_result",
          "data": {
            "text/plain": "array([[89597.9095428 ],\n       [  139.21067402],\n       [-8738.01911233]])"
          },
          "metadata": {
            "bento_obj_id": "140099416148608"
          },
          "execution_count": 919
        }
      ]
    },
    {
      "cell_type": "code",
      "metadata": {
        "originalKey": "83c345c0-5a05-4fb3-bf54-5186c968ee89",
        "showInput": true,
        "customInput": null
      },
      "source": [
        ""
      ],
      "execution_count": null,
      "outputs": []
    }
  ]
}
