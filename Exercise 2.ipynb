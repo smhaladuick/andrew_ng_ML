{
  "metadata": {
    "dataExplorerConfig": {},
    "bento_stylesheets": {
      "bento/extensions/flow/main.css": true,
      "bento/extensions/kernel_selector/main.css": true,
      "bento/extensions/kernel_ui/main.css": true,
      "bento/extensions/new_kernel/main.css": true,
      "bento/extensions/system_usage/main.css": true,
      "bento/extensions/theme/main.css": true
    },
    "kernelspec": {
      "display_name": "Python 3",
      "language": "python",
      "name": "bento_kernel_default",
      "metadata": {
        "kernel_name": "bento_kernel_default",
        "nightly_builds": true,
        "fbpkg_supported": true,
        "cinder_runtime": false,
        "is_prebuilt": true
      }
    },
    "language_info": {
      "codemirror_mode": {
        "name": "ipython",
        "version": 3
      },
      "file_extension": ".py",
      "mimetype": "text/x-python",
      "name": "python",
      "nbconvert_exporter": "python",
      "pygments_lexer": "ipython3"
    },
    "last_server_session_id": "45893ec5-9b11-431d-b822-89b70dd6d07f",
    "last_kernel_id": "b8eaface-5b89-489b-90b7-b9ce03995feb",
    "last_base_url": "https://devvm7934.prn0.facebook.com:8090/",
    "last_msg_id": "b72c5f0d-2056c529b337873fc6ef5ade_147",
    "outputWidgetContext": {}
  },
  "nbformat": 4,
  "nbformat_minor": 2,
  "cells": [
    {
      "cell_type": "markdown",
      "metadata": {
        "originalKey": "22ec07d6-3e3f-4f08-aefe-fb1ef509c618",
        "showInput": false,
        "customInput": null,
        "code_folding": [],
        "hidden_ranges": []
      },
      "source": [
        "## Exercise 2\n",
        "\n",
        "Perform Logistic Regression via Gradient Descent"
      ]
    },
    {
      "cell_type": "code",
      "metadata": {
        "originalKey": "74314435-0da7-4451-b391-5f097a51bfbf",
        "showInput": true,
        "customInput": null,
        "code_folding": [],
        "hidden_ranges": [],
        "collapsed": false,
        "requestMsgId": "07cd3094-ba13-4185-ab1b-ecc050223b73",
        "executionStartTime": 1651352216650,
        "executionStopTime": 1651352217134
      },
      "source": [
        "import numpy as np\n",
        "import matplotlib.pyplot as plt\n",
        "import pandas as pd"
      ],
      "execution_count": 4,
      "outputs": []
    },
    {
      "cell_type": "markdown",
      "metadata": {
        "originalKey": "233e6ded-1b28-4a77-b285-56176e68ca99",
        "showInput": false,
        "customInput": null
      },
      "source": [
        "Instructions: Plot the positive and negative examples on a\n",
        "2D plot, using the option 'k+' for the positive\n",
        "examples and 'ko' for the negative examples."
      ]
    },
    {
      "cell_type": "code",
      "metadata": {
        "originalKey": "1e11a6b4-91df-4994-8caa-91501852594f",
        "showInput": true,
        "customInput": null,
        "code_folding": [],
        "hidden_ranges": [],
        "collapsed": false,
        "requestMsgId": "eca56e8c-81f4-44bf-9bc7-31fb96a769bb",
        "executionStartTime": 1651352219176,
        "executionStopTime": 1651352219223
      },
      "source": [
        "#import data\n",
        "df = pd.read_csv('/home/smhaladuick/local/andrew_ng/ex2/ex2data1.txt', header=None)"
      ],
      "execution_count": 5,
      "outputs": []
    },
    {
      "cell_type": "code",
      "metadata": {
        "originalKey": "202141b3-2a9c-4619-8ef9-71e54019800b",
        "showInput": true,
        "customInput": null,
        "code_folding": [],
        "hidden_ranges": [],
        "collapsed": false,
        "requestMsgId": "648fee6d-3fab-4282-ba4b-ce6d5a63b957",
        "executionStartTime": 1651352219987,
        "executionStopTime": 1651352220146
      },
      "source": [
        "df.head(5)"
      ],
      "execution_count": 6,
      "outputs": [
        {
          "output_type": "execute_result",
          "data": {
            "text/plain": "           0          1  2\n0  34.623660  78.024693  0\n1  30.286711  43.894998  0\n2  35.847409  72.902198  0\n3  60.182599  86.308552  1\n4  79.032736  75.344376  1",
            "text/html": "<div>\n<style scoped>\n    .dataframe tbody tr th:only-of-type {\n        vertical-align: middle;\n    }\n\n    .dataframe tbody tr th {\n        vertical-align: top;\n    }\n\n    .dataframe thead th {\n        text-align: right;\n    }\n</style>\n<table border=\"1\" class=\"dataframe\">\n  <thead>\n    <tr style=\"text-align: right;\">\n      <th></th>\n      <th>0</th>\n      <th>1</th>\n      <th>2</th>\n    </tr>\n  </thead>\n  <tbody>\n    <tr>\n      <th>0</th>\n      <td>34.623660</td>\n      <td>78.024693</td>\n      <td>0</td>\n    </tr>\n    <tr>\n      <th>1</th>\n      <td>30.286711</td>\n      <td>43.894998</td>\n      <td>0</td>\n    </tr>\n    <tr>\n      <th>2</th>\n      <td>35.847409</td>\n      <td>72.902198</td>\n      <td>0</td>\n    </tr>\n    <tr>\n      <th>3</th>\n      <td>60.182599</td>\n      <td>86.308552</td>\n      <td>1</td>\n    </tr>\n    <tr>\n      <th>4</th>\n      <td>79.032736</td>\n      <td>75.344376</td>\n      <td>1</td>\n    </tr>\n  </tbody>\n</table>\n</div>",
            "application/vnd.dataresource+json": {
              "schema": {
                "fields": [
                  {
                    "name": "index",
                    "type": "integer"
                  },
                  {
                    "name": 0,
                    "type": "number"
                  },
                  {
                    "name": 1,
                    "type": "number"
                  },
                  {
                    "name": 2,
                    "type": "integer"
                  }
                ],
                "primaryKey": [
                  "index"
                ],
                "pandas_version": "0.20.0"
              },
              "data": [
                {
                  "0": 34.6236596245,
                  "1": 78.0246928154,
                  "2": 0,
                  "index": 0
                },
                {
                  "0": 30.2867107682,
                  "1": 43.894997524,
                  "2": 0,
                  "index": 1
                },
                {
                  "0": 35.8474087699,
                  "1": 72.9021980271,
                  "2": 0,
                  "index": 2
                },
                {
                  "0": 60.1825993862,
                  "1": 86.3085520955,
                  "2": 1,
                  "index": 3
                },
                {
                  "0": 79.0327360507,
                  "1": 75.3443764369,
                  "2": 1,
                  "index": 4
                }
              ]
            }
          },
          "metadata": {
            "bento_obj_id": "140205295724768"
          },
          "execution_count": 6
        }
      ]
    },
    {
      "cell_type": "code",
      "metadata": {
        "originalKey": "2f5f1248-c9a5-4de4-a17d-82cc3e49ab55",
        "showInput": true,
        "customInput": null,
        "code_folding": [],
        "hidden_ranges": [],
        "collapsed": false,
        "requestMsgId": "1bb2d6b2-55fc-489a-aa3f-2922c726fa53",
        "executionStartTime": 1651352220799,
        "executionStopTime": 1651352220878
      },
      "source": [
        "#Summary Stats\n",
        "df.describe()"
      ],
      "execution_count": 7,
      "outputs": [
        {
          "output_type": "execute_result",
          "data": {
            "text/plain": "                0           1           2\ncount  100.000000  100.000000  100.000000\nmean    65.644274   66.221998    0.600000\nstd     19.458222   18.582783    0.492366\nmin     30.058822   30.603263    0.000000\n25%     50.919511   48.179205    0.000000\n50%     67.032988   67.682381    1.000000\n75%     80.212529   79.360605    1.000000\nmax     99.827858   98.869436    1.000000",
            "text/html": "<div>\n<style scoped>\n    .dataframe tbody tr th:only-of-type {\n        vertical-align: middle;\n    }\n\n    .dataframe tbody tr th {\n        vertical-align: top;\n    }\n\n    .dataframe thead th {\n        text-align: right;\n    }\n</style>\n<table border=\"1\" class=\"dataframe\">\n  <thead>\n    <tr style=\"text-align: right;\">\n      <th></th>\n      <th>0</th>\n      <th>1</th>\n      <th>2</th>\n    </tr>\n  </thead>\n  <tbody>\n    <tr>\n      <th>count</th>\n      <td>100.000000</td>\n      <td>100.000000</td>\n      <td>100.000000</td>\n    </tr>\n    <tr>\n      <th>mean</th>\n      <td>65.644274</td>\n      <td>66.221998</td>\n      <td>0.600000</td>\n    </tr>\n    <tr>\n      <th>std</th>\n      <td>19.458222</td>\n      <td>18.582783</td>\n      <td>0.492366</td>\n    </tr>\n    <tr>\n      <th>min</th>\n      <td>30.058822</td>\n      <td>30.603263</td>\n      <td>0.000000</td>\n    </tr>\n    <tr>\n      <th>25%</th>\n      <td>50.919511</td>\n      <td>48.179205</td>\n      <td>0.000000</td>\n    </tr>\n    <tr>\n      <th>50%</th>\n      <td>67.032988</td>\n      <td>67.682381</td>\n      <td>1.000000</td>\n    </tr>\n    <tr>\n      <th>75%</th>\n      <td>80.212529</td>\n      <td>79.360605</td>\n      <td>1.000000</td>\n    </tr>\n    <tr>\n      <th>max</th>\n      <td>99.827858</td>\n      <td>98.869436</td>\n      <td>1.000000</td>\n    </tr>\n  </tbody>\n</table>\n</div>",
            "application/vnd.dataresource+json": {
              "schema": {
                "fields": [
                  {
                    "name": "index",
                    "type": "string"
                  },
                  {
                    "name": 0,
                    "type": "number"
                  },
                  {
                    "name": 1,
                    "type": "number"
                  },
                  {
                    "name": 2,
                    "type": "number"
                  }
                ],
                "primaryKey": [
                  "index"
                ],
                "pandas_version": "0.20.0"
              },
              "data": [
                {
                  "0": 100,
                  "1": 100,
                  "2": 100,
                  "index": "count"
                },
                {
                  "0": 65.6442740573,
                  "1": 66.2219980881,
                  "2": 0.6,
                  "index": "mean"
                },
                {
                  "0": 19.4582222754,
                  "1": 18.5827830393,
                  "2": 0.4923659639,
                  "index": "std"
                },
                {
                  "0": 30.0588224467,
                  "1": 30.6032632343,
                  "2": 0,
                  "index": "min"
                },
                {
                  "0": 50.9195109009,
                  "1": 48.1792052604,
                  "2": 0,
                  "index": "25%"
                },
                {
                  "0": 67.0329880193,
                  "1": 67.6823813248,
                  "2": 1,
                  "index": "50%"
                },
                {
                  "0": 80.2125290669,
                  "1": 79.3606046478,
                  "2": 1,
                  "index": "75%"
                },
                {
                  "0": 99.8278577969,
                  "1": 98.8694357422,
                  "2": 1,
                  "index": "max"
                }
              ]
            }
          },
          "metadata": {
            "bento_obj_id": "140205257787616"
          },
          "execution_count": 7
        }
      ]
    },
    {
      "cell_type": "code",
      "metadata": {
        "originalKey": "4b9b8ded-3e96-4683-99d1-1398564f02d0",
        "showInput": true,
        "customInput": null,
        "code_folding": [],
        "hidden_ranges": [],
        "collapsed": false,
        "requestMsgId": "860cb2d7-d981-4e86-af16-ed05b84cbe70",
        "executionStartTime": 1651352225169,
        "executionStopTime": 1651352225698
      },
      "source": [
        "plt.scatter(df[df[2]==1][0], df[df[2]==1][1], marker=\"X\", color=\"b\")\n",
        "plt.scatter(df[df[2]==0][0], df[df[2]==0][1], marker=\"o\", color=\"r\")\n",
        "plt.xticks(np.arange(30,100,step=5))\n",
        "plt.yticks(np.arange(30,100,step=5))\n",
        "plt.xlabel(\"Test 1 Score\")\n",
        "plt.ylabel(\"Test 2 Score\")\n",
        "plt.title(\"Admission Decision vs Test Scores\")"
      ],
      "execution_count": 8,
      "outputs": [
        {
          "output_type": "execute_result",
          "data": {
            "text/plain": "Text(0.5, 1.0, 'Admission Decision vs Test Scores')"
          },
          "metadata": {
            "bento_obj_id": "140205257276384"
          },
          "execution_count": 8
        },
        {
          "output_type": "display_data",
          "data": {
            "text/plain": "<Figure size 432x288 with 1 Axes>",
            "image/png": "[encoded data removed]"
          },
          "metadata": {
            "bento_obj_id": "140205257736400",
            "needs_background": "light"
          }
        }
      ]
    },
    {
      "cell_type": "markdown",
      "metadata": {
        "originalKey": "82957138-bbbd-43e6-ae4f-b9d059333f54",
        "showInput": false,
        "customInput": null
      },
      "source": [
        "  % Instructions: Compute the sigmoid of each value of z (z can be a matrix,\n",
        "  %               vector or scalar).\n",
        "  g = 1./(1+exp(-z));"
      ]
    },
    {
      "cell_type": "code",
      "metadata": {
        "originalKey": "87189430-47c6-4a3d-a325-cc1b25193369",
        "showInput": true,
        "customInput": null,
        "code_folding": [],
        "hidden_ranges": [],
        "collapsed": false,
        "requestMsgId": "87189430-47c6-4a3d-a325-cc1b25193369",
        "executionStartTime": 1649100934289,
        "executionStopTime": 1649100934300
      },
      "source": [
        "# SIGMOID Compute sigmoid function\n",
        "# g = SIGMOID(z) computes the sigmoid of z.\n",
        "# You need to return the following variables correctly \n",
        "# Instructions: Compute the sigmoid of each value of z (z can be a matrix, vector or scalar).\n",
        "\n",
        "def sigmoid(z):\n",
        "\n",
        "    g = 1 / (1 + np.exp(-z))\n",
        "    return g"
      ],
      "execution_count": 252,
      "outputs": []
    },
    {
      "cell_type": "code",
      "metadata": {
        "originalKey": "28c23712-9e09-461f-954f-2ffcfd5bc261",
        "showInput": true,
        "customInput": null,
        "code_folding": [],
        "hidden_ranges": [],
        "collapsed": false,
        "requestMsgId": "28c23712-9e09-461f-954f-2ffcfd5bc261",
        "executionStartTime": 1649104684052,
        "executionStopTime": 1649104684066
      },
      "source": [
        "# COSTFUNCTION Compute cost and gradient for logistic regression\n",
        "def costFunction(theta, X, y):\n",
        "    # Initialize variables\n",
        "    m = len(y)  # number of training examples\n",
        "\n",
        "    predictions = sigmoid(np.dot(X, theta))\n",
        "    error = (-y * np.log(predictions)) - ((1 - y) * np.log(1 - predictions))\n",
        "\n",
        "    J = (1/m) * np.sum(error)\n",
        "    grad = (1/m) * np.dot(X.T, (predictions - y))\n",
        "    \n",
        "    return J, grad"
      ],
      "execution_count": 264,
      "outputs": []
    },
    {
      "cell_type": "code",
      "metadata": {
        "originalKey": "f6c68dfc-e78d-485f-910b-6a0773921609",
        "showInput": true,
        "customInput": null,
        "collapsed": false,
        "requestMsgId": "f6c68dfc-e78d-485f-910b-6a0773921609",
        "executionStartTime": 1649100181760,
        "executionStopTime": 1649100181791
      },
      "source": [
        "# Feature Normalization\n",
        "def FeatureNormalization(X):\n",
        "    mean = np.mean(X, axis=0)\n",
        "    std = np.std(X, axis=0)\n",
        "    X = (X - mean) / std\n",
        "    return X, mean, std"
      ],
      "execution_count": 210,
      "outputs": []
    },
    {
      "cell_type": "code",
      "metadata": {
        "originalKey": "4d91f4ac-49bb-4f18-a286-667e645817c1",
        "showInput": true,
        "customInput": null,
        "code_folding": [],
        "hidden_ranges": [],
        "collapsed": false,
        "requestMsgId": "4d91f4ac-49bb-4f18-a286-667e645817c1",
        "executionStartTime": 1649105232253,
        "executionStopTime": 1649105232267
      },
      "source": [
        "# Performs gradient descent\n",
        "def gradientDescent(theta, X, y, alpha, numIts):\n",
        "    \n",
        "    #initialize\n",
        "    m = len(y)\n",
        "    J_hist = []\n",
        "\n",
        "    #loop for each graient descent iteration\n",
        "    for i in range(numIts):\n",
        "        # run cost function\n",
        "        J, grad = costFunction(theta, X, y)\n",
        "        J_hist.append(J) #store J history\n",
        "\n",
        "        #compute theta\n",
        "        theta = theta - (alpha * grad)\n",
        "    \n",
        "    return J_hist, theta"
      ],
      "execution_count": 307,
      "outputs": []
    },
    {
      "cell_type": "code",
      "metadata": {
        "originalKey": "d7184b28-aaf3-40f9-9739-84c505ef9a52",
        "showInput": true,
        "customInput": null,
        "code_folding": [],
        "hidden_ranges": [],
        "collapsed": false,
        "requestMsgId": "d7184b28-aaf3-40f9-9739-84c505ef9a52",
        "executionStartTime": 1649105033063,
        "executionStopTime": 1649105033078
      },
      "source": [
        "data = df.values\n",
        "X = data[:,[0,1]].reshape(m,2)\n",
        "m, n = np.shape(X)[0], np.shape(X)[1] #num data points and num features\n",
        "\n",
        "X_norm, X_mean, X_std = FeatureNormalization(X)\n",
        "X = np.append(np.ones((m,1)), X, axis=1) #add zero column to front of X\n",
        "X_norm = np.append(np.ones((m,1)), X_norm, axis=1)\n",
        "y = data[:,[2]].reshape(m,1)"
      ],
      "execution_count": 290,
      "outputs": []
    },
    {
      "cell_type": "code",
      "metadata": {
        "originalKey": "3e7631f6-dbb2-449a-b48d-0fc3a984bf0e",
        "showInput": true,
        "customInput": null,
        "code_folding": [],
        "hidden_ranges": [],
        "collapsed": false,
        "requestMsgId": "3e7631f6-dbb2-449a-b48d-0fc3a984bf0e",
        "executionStartTime": 1649105141265,
        "executionStopTime": 1649105141329
      },
      "source": [
        "np.shape(y)"
      ],
      "execution_count": 301,
      "outputs": [
        {
          "output_type": "execute_result",
          "data": {
            "text/plain": "(100, 1)"
          },
          "metadata": {
            "bento_obj_id": "139989739569536"
          },
          "execution_count": 301
        }
      ]
    },
    {
      "cell_type": "code",
      "metadata": {
        "originalKey": "d33d111e-1e8c-46be-9df5-e0c04c6adac5",
        "showInput": true,
        "customInput": null,
        "code_folding": [],
        "hidden_ranges": [],
        "collapsed": false,
        "requestMsgId": "d33d111e-1e8c-46be-9df5-e0c04c6adac5",
        "executionStartTime": 1649105239041,
        "executionStopTime": 1649105239094
      },
      "source": [
        "theta = np.zeros((n+1, 1)) #initialize theta\n",
        "J, grad = costFunction(theta, X_norm, y)\n",
        "J, grad"
      ],
      "execution_count": 308,
      "outputs": [
        {
          "output_type": "execute_result",
          "data": {
            "text/plain": "(0.6931471805599453,\n array([[-0.1       ],\n        [-0.28122914],\n        [-0.25098615]]))"
          },
          "metadata": {
            "bento_obj_id": "139989703526656"
          },
          "execution_count": 308
        }
      ]
    },
    {
      "cell_type": "code",
      "metadata": {
        "originalKey": "66f4575c-072c-4b50-a152-62164a9a6fc9",
        "showInput": true,
        "customInput": null,
        "code_folding": [],
        "hidden_ranges": [],
        "collapsed": false,
        "requestMsgId": "66f4575c-072c-4b50-a152-62164a9a6fc9",
        "executionStartTime": 1649105647004,
        "executionStopTime": 1649105647082
      },
      "source": [
        "theta = np.zeros((n+1, 1)) #initialize theta\n",
        "J_hist, theta = gradientDescent(theta, X_norm, y, alpha=1, numIts=1000)\n",
        "J_hist[-1], theta"
      ],
      "execution_count": 330,
      "outputs": [
        {
          "output_type": "execute_result",
          "data": {
            "text/plain": "(0.20349778840675828,\n array([[1.71671348],\n        [3.98908079],\n        [3.72154954]]))"
          },
          "metadata": {
            "bento_obj_id": "139989751580416"
          },
          "execution_count": 330
        }
      ]
    },
    {
      "cell_type": "code",
      "metadata": {
        "originalKey": "4931515e-a025-41f9-8a03-f06cc2c3e076",
        "showInput": true,
        "customInput": null,
        "code_folding": [],
        "hidden_ranges": [],
        "collapsed": false,
        "requestMsgId": "4931515e-a025-41f9-8a03-f06cc2c3e076",
        "executionStartTime": 1649105761565,
        "executionStopTime": 1649105761819
      },
      "source": [
        "A = plt.plot(J_hist)"
      ],
      "execution_count": 343,
      "outputs": [
        {
          "output_type": "display_data",
          "data": {
            "text/plain": "<Figure size 432x288 with 1 Axes>",
            "image/png": "[encoded data removed]"
          },
          "metadata": {
            "bento_obj_id": "139989671505104",
            "needs_background": "light"
          }
        }
      ]
    },
    {
      "cell_type": "code",
      "metadata": {
        "originalKey": "da0eb56d-56d4-4345-99c0-3b5dbcc4c500",
        "showInput": true,
        "customInput": null,
        "code_folding": [],
        "hidden_ranges": [],
        "collapsed": false,
        "requestMsgId": "da0eb56d-56d4-4345-99c0-3b5dbcc4c500",
        "executionStartTime": 1649106488604,
        "executionStopTime": 1649106488864
      },
      "source": [
        "pos , neg = (y==1).reshape(100,1) , (y==0).reshape(100,1)\n",
        "plt.scatter(X_norm[pos[:,0],1], X_norm[pos[:,0],2], c='r', marker='+', label=\"Admitted\")\n",
        "plt.scatter(X_norm[neg[:,0],1], X_norm[neg[:,0],2], c='b', marker='o', label=\"Not Admitted\")\n",
        "\n",
        "x_value= np.array([np.min(X_norm[:,1]),np.max(X_norm[:,1])])\n",
        "y_value=-(theta[0] +theta[1]*x_value)/theta[2]\n",
        "plt.plot(x_value, y_value)"
      ],
      "execution_count": 382,
      "outputs": [
        {
          "output_type": "execute_result",
          "data": {
            "text/plain": "[<matplotlib.lines.Line2D at 0x7f51e6d0b220>]"
          },
          "metadata": {
            "bento_obj_id": "139989674382080"
          },
          "execution_count": 382
        },
        {
          "output_type": "display_data",
          "data": {
            "text/plain": "<Figure size 432x288 with 1 Axes>",
            "image/png": "[encoded data removed]"
          },
          "metadata": {
            "bento_obj_id": "139989744929712",
            "needs_background": "light"
          }
        }
      ]
    },
    {
      "cell_type": "code",
      "metadata": {
        "originalKey": "f88cd24d-59a7-46e7-9cdf-354128f2255c",
        "showInput": true,
        "customInput": null,
        "code_folding": [],
        "hidden_ranges": [],
        "collapsed": false,
        "requestMsgId": "f88cd24d-59a7-46e7-9cdf-354128f2255c",
        "executionStartTime": 1649107687786,
        "executionStopTime": 1649107687836
      },
      "source": [
        "def predict(theta, X):\n",
        "# PREDICT Predict whether the label is 0 or 1 using learned logistic \n",
        "# p = PREDICT(theta, X) computes the predictions for X using a \n",
        "# threshold at 0.5 (i.e., if sigmoid(theta'*x) >= 0.5, predict 1)\n",
        "\n",
        "    return sigmoid(np.dot(X, theta))"
      ],
      "execution_count": 402,
      "outputs": []
    },
    {
      "cell_type": "code",
      "metadata": {
        "originalKey": "e0fecd9d-4e5a-448e-8c0a-2caf9d7722bf",
        "showInput": true,
        "customInput": null,
        "code_folding": [],
        "hidden_ranges": [],
        "collapsed": false,
        "requestMsgId": "e0fecd9d-4e5a-448e-8c0a-2caf9d7722bf",
        "executionStartTime": 1649107688542,
        "executionStopTime": 1649107688592
      },
      "source": [
        "# predict admitted based on student scores\n",
        "x_test = np.array([45,85])\n",
        "x_test = (x_test - X_mean)/X_std\n",
        "x_test = np.append(np.ones(1),x_test)\n",
        "predict(theta, x_test)"
      ],
      "execution_count": 403,
      "outputs": [
        {
          "output_type": "execute_result",
          "data": {
            "text/plain": "array([0.77604289])"
          },
          "metadata": {
            "bento_obj_id": "139989745817600"
          },
          "execution_count": 403
        }
      ]
    },
    {
      "cell_type": "code",
      "metadata": {
        "originalKey": "37aa7c50-66b0-452b-919a-af73c570f788",
        "showInput": true,
        "customInput": null,
        "code_folding": [],
        "hidden_ranges": [],
        "collapsed": false,
        "requestMsgId": "37aa7c50-66b0-452b-919a-af73c570f788",
        "executionStartTime": 1649108104916,
        "executionStopTime": 1649108105015
      },
      "source": [
        "#determine the accuracy of the classifier\n",
        "1 - sum(((predict(theta, X_norm) >= 0.5) - y)**2) / len(y)"
      ],
      "execution_count": 420,
      "outputs": [
        {
          "output_type": "execute_result",
          "data": {
            "text/plain": "array([0.89])"
          },
          "metadata": {
            "bento_obj_id": "139989745003536"
          },
          "execution_count": 420
        }
      ]
    },
    {
      "cell_type": "code",
      "metadata": {
        "originalKey": "458acdda-8327-4c85-bf81-f4a7cc09bbd8",
        "showInput": true,
        "customInput": null,
        "code_folding": [],
        "hidden_ranges": []
      },
      "source": [
        ""
      ],
      "execution_count": null,
      "outputs": []
    },
    {
      "cell_type": "markdown",
      "metadata": {
        "originalKey": "6e7ff634-002e-48ec-866b-f4a0f64f39be",
        "showInput": false,
        "customInput": null,
        "code_folding": [],
        "hidden_ranges": []
      },
      "source": [
        "## Part 2\n",
        "Perform Regularized Logistic Regression via Gradient Descent for comparison w Un-regularized"
      ]
    },
    {
      "cell_type": "code",
      "metadata": {
        "originalKey": "6d70c7be-4e6c-45db-8230-87beb980a73a",
        "showInput": true,
        "customInput": null,
        "code_folding": [],
        "hidden_ranges": [],
        "collapsed": false,
        "requestMsgId": "6d70c7be-4e6c-45db-8230-87beb980a73a",
        "executionStartTime": 1649112393358,
        "executionStopTime": 1649112393373
      },
      "source": [
        "def costFunctionReg(theta, X, y, Lambda):\n",
        "    # Initialize variables\n",
        "    m = len(y)  # number of training examples\n",
        "\n",
        "    predictions = sigmoid(np.dot(X, theta))\n",
        "    error = (-y * np.log(predictions)) - ((1 - y) * np.log(1 - predictions))\n",
        "\n",
        "    J = (1/m) * np.sum(error) + (Lambda / (2 * m)) * sum(theta **2, 1)\n",
        "    grad = (1/m) * np.dot(X.T, (predictions - y)) + ((Lambda / m) * theta)\n",
        "    \n",
        "    return J, grad"
      ],
      "execution_count": 429,
      "outputs": []
    },
    {
      "cell_type": "code",
      "metadata": {
        "originalKey": "82e08f7e-d45d-4536-b4af-0fa19051e0be",
        "showInput": true,
        "customInput": null,
        "code_folding": [],
        "hidden_ranges": [],
        "collapsed": false,
        "requestMsgId": "82e08f7e-d45d-4536-b4af-0fa19051e0be",
        "executionStartTime": 1649112573174,
        "executionStopTime": 1649112573191
      },
      "source": [
        "# Performs gradient descent\n",
        "def gradientDescentReg(theta, X, y, alpha, numIts, Lambda):\n",
        "    \n",
        "    #initialize\n",
        "    m = len(y)\n",
        "    J_hist = []\n",
        "\n",
        "    #loop for each graient descent iteration\n",
        "    for i in range(numIts):\n",
        "        # run cost function\n",
        "        J, grad = costFunctionReg(theta, X, y, Lambda)\n",
        "        J_hist.append(J) #store J history\n",
        "\n",
        "        #compute theta\n",
        "        theta = theta - (alpha * grad)\n",
        "    \n",
        "    return J_hist, theta"
      ],
      "execution_count": 437,
      "outputs": []
    },
    {
      "cell_type": "code",
      "metadata": {
        "originalKey": "6a5537e8-5cd9-4d04-b861-f817e92fa24a",
        "showInput": true,
        "customInput": null,
        "code_folding": [],
        "hidden_ranges": [],
        "collapsed": false,
        "requestMsgId": "6a5537e8-5cd9-4d04-b861-f817e92fa24a",
        "executionStartTime": 1649112712196,
        "executionStopTime": 1649112712304
      },
      "source": [
        "theta = np.zeros((n+1, 1)) #initialize theta\n",
        "J_hist, theta = gradientDescentReg(theta, X_norm, y, alpha=1, numIts=1000, Lambda=100)\n",
        "J_hist[-1], theta"
      ],
      "execution_count": 449,
      "outputs": [
        {
          "output_type": "execute_result",
          "data": {
            "text/plain": "(array([1.13193789]),\n array([[0.08033025],\n        [0.22672212],\n        [0.20254776]]))"
          },
          "metadata": {
            "bento_obj_id": "139989742374592"
          },
          "execution_count": 449
        }
      ]
    },
    {
      "cell_type": "code",
      "metadata": {
        "originalKey": "84db8942-1089-48a4-82ab-4c10c8676d36",
        "showInput": true,
        "customInput": null,
        "collapsed": false,
        "requestMsgId": "84db8942-1089-48a4-82ab-4c10c8676d36",
        "executionStartTime": 1649112712947,
        "executionStopTime": 1649112713210
      },
      "source": [
        "pos , neg = (y==1).reshape(100,1) , (y==0).reshape(100,1)\n",
        "plt.scatter(X_norm[pos[:,0],1], X_norm[pos[:,0],2], c='r', marker='+', label=\"Admitted\")\n",
        "plt.scatter(X_norm[neg[:,0],1], X_norm[neg[:,0],2], c='b', marker='o', label=\"Not Admitted\")\n",
        "\n",
        "x_value= np.array([np.min(X_norm[:,1]),np.max(X_norm[:,1])])\n",
        "y_value=-(theta[0] +theta[1]*x_value)/theta[2]\n",
        "plt.plot(x_value, y_value)"
      ],
      "execution_count": 450,
      "outputs": [
        {
          "output_type": "execute_result",
          "data": {
            "text/plain": "[<matplotlib.lines.Line2D at 0x7f51e2797850>]"
          },
          "metadata": {
            "bento_obj_id": "139989742154816"
          },
          "execution_count": 450
        },
        {
          "output_type": "display_data",
          "data": {
            "text/plain": "<Figure size 432x288 with 1 Axes>",
            "image/png": "[encoded data removed]"
          },
          "metadata": {
            "bento_obj_id": "139989747680880",
            "needs_background": "light"
          }
        }
      ]
    },
    {
      "cell_type": "code",
      "metadata": {
        "originalKey": "5b22ec0c-7e5c-4de3-8e62-9a3f0de21b83",
        "showInput": true,
        "customInput": null
      },
      "source": [
        ""
      ],
      "execution_count": null,
      "outputs": []
    }
  ]
}
